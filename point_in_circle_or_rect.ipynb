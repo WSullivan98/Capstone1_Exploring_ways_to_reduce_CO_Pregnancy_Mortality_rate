{
 "cells": [
  {
   "cell_type": "code",
   "execution_count": null,
   "id": "indirect-flour",
   "metadata": {},
   "outputs": [],
   "source": [
    "\n",
    "\n",
    "def within_shape(point,circle,rectangle):\n",
    "    '''\n",
    "    point = xy coord ex (1,2)\n",
    "    cirlce x y radius (4,5,2)\n",
    "    rectangle xy lower left and xy upper right tuple of four elements\n",
    "    \n",
    "    if distance from the point of the center is less than radius\n",
    "    \n",
    "    if point not in cicle or rectangle return 0\n",
    "    if in circle return 1\n",
    "    in rect return 2\n",
    "    in both return 3\n",
    "    \n",
    "    '''\n",
    "    \n",
    "    distance = ((point[0] - circle[0])**2 +(point[1]-circle[1])**2  )**(1/2)\n",
    "    \n",
    "    in_rectangle = (rectangle[0] < point[0] < rectangle[2]) and (rectangle[1]<point[1]<rectangle[2])\n",
    "    \n",
    "    return (distance < radius) + 2* in_rectangle\n",
    "    \n",
    "    "
   ]
  }
 ],
 "metadata": {
  "kernelspec": {
   "display_name": "Python 3",
   "language": "python",
   "name": "python3"
  },
  "language_info": {
   "codemirror_mode": {
    "name": "ipython",
    "version": 3
   },
   "file_extension": ".py",
   "mimetype": "text/x-python",
   "name": "python",
   "nbconvert_exporter": "python",
   "pygments_lexer": "ipython3",
   "version": "3.7.9"
  }
 },
 "nbformat": 4,
 "nbformat_minor": 5
}
