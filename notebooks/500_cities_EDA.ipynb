{
 "cells": [
  {
   "cell_type": "code",
   "execution_count": 2,
   "metadata": {},
   "outputs": [],
   "source": [
    "import pandas as pd\n",
    "import numpy as np\n",
    "import scipy.stats as stats\n",
    "import matplotlib.pyplot as plt\n",
    "%matplotlib inline  "
   ]
  },
  {
   "cell_type": "code",
   "execution_count": 3,
   "metadata": {},
   "outputs": [],
   "source": [
    "data = pd.read_csv('../data/raw/500_Cities__Local_Data_for_Better_Health__2018_release.csv')"
   ]
  },
  {
   "cell_type": "code",
   "execution_count": 4,
   "metadata": {},
   "outputs": [
    {
     "data": {
      "text/plain": [
       "Index(['Year', 'StateAbbr', 'StateDesc', 'CityName', 'GeographicLevel',\n",
       "       'DataSource', 'Category', 'UniqueID', 'Measure', 'Data_Value_Unit',\n",
       "       'DataValueTypeID', 'Data_Value_Type', 'Data_Value',\n",
       "       'Low_Confidence_Limit', 'High_Confidence_Limit',\n",
       "       'Data_Value_Footnote_Symbol', 'Data_Value_Footnote', 'PopulationCount',\n",
       "       'Geolocation', 'CategoryID', 'MeasureId', 'CityFIPS', 'TractFIPS',\n",
       "       'Short_Question_Text'],\n",
       "      dtype='object')"
      ]
     },
     "execution_count": 4,
     "metadata": {},
     "output_type": "execute_result"
    }
   ],
   "source": [
    "data.columns\n",
    "\n",
    "\n"
   ]
  },
  {
   "cell_type": "code",
   "execution_count": 5,
   "metadata": {},
   "outputs": [
    {
     "name": "stdout",
     "output_type": "stream",
     "text": [
      "<class 'pandas.core.frame.DataFrame'>\n",
      "RangeIndex: 810103 entries, 0 to 810102\n",
      "Data columns (total 24 columns):\n",
      " #   Column                      Non-Null Count   Dtype  \n",
      "---  ------                      --------------   -----  \n",
      " 0   Year                        810103 non-null  int64  \n",
      " 1   StateAbbr                   810103 non-null  object \n",
      " 2   StateDesc                   810103 non-null  object \n",
      " 3   CityName                    810047 non-null  object \n",
      " 4   GeographicLevel             810103 non-null  object \n",
      " 5   DataSource                  810103 non-null  object \n",
      " 6   Category                    810103 non-null  object \n",
      " 7   UniqueID                    810103 non-null  object \n",
      " 8   Measure                     810103 non-null  object \n",
      " 9   Data_Value_Unit             810103 non-null  object \n",
      " 10  DataValueTypeID             810103 non-null  object \n",
      " 11  Data_Value_Type             810103 non-null  object \n",
      " 12  Data_Value                  787311 non-null  float64\n",
      " 13  Low_Confidence_Limit        787311 non-null  float64\n",
      " 14  High_Confidence_Limit       787311 non-null  float64\n",
      " 15  Data_Value_Footnote_Symbol  22794 non-null   object \n",
      " 16  Data_Value_Footnote         22794 non-null   object \n",
      " 17  PopulationCount             810103 non-null  int64  \n",
      " 18  Geolocation                 810047 non-null  object \n",
      " 19  CategoryID                  810103 non-null  object \n",
      " 20  MeasureId                   810103 non-null  object \n",
      " 21  CityFIPS                    810047 non-null  float64\n",
      " 22  TractFIPS                   782047 non-null  float64\n",
      " 23  Short_Question_Text         810103 non-null  object \n",
      "dtypes: float64(5), int64(2), object(17)\n",
      "memory usage: 148.3+ MB\n"
     ]
    }
   ],
   "source": [
    "data.info()"
   ]
  },
  {
   "cell_type": "code",
   "execution_count": 6,
   "metadata": {},
   "outputs": [
    {
     "data": {
      "text/plain": [
       "Year                               0\n",
       "StateAbbr                          0\n",
       "StateDesc                          0\n",
       "CityName                          56\n",
       "GeographicLevel                    0\n",
       "DataSource                         0\n",
       "Category                           0\n",
       "UniqueID                           0\n",
       "Measure                            0\n",
       "Data_Value_Unit                    0\n",
       "DataValueTypeID                    0\n",
       "Data_Value_Type                    0\n",
       "Data_Value                     22792\n",
       "Low_Confidence_Limit           22792\n",
       "High_Confidence_Limit          22792\n",
       "Data_Value_Footnote_Symbol    787309\n",
       "Data_Value_Footnote           787309\n",
       "PopulationCount                    0\n",
       "Geolocation                       56\n",
       "CategoryID                         0\n",
       "MeasureId                          0\n",
       "CityFIPS                          56\n",
       "TractFIPS                      28056\n",
       "Short_Question_Text                0\n",
       "dtype: int64"
      ]
     },
     "execution_count": 6,
     "metadata": {},
     "output_type": "execute_result"
    }
   ],
   "source": [
    "data.isna().sum()\n"
   ]
  },
  {
   "cell_type": "code",
   "execution_count": 7,
   "metadata": {},
   "outputs": [
    {
     "data": {
      "text/plain": [
       "array(['High blood pressure among adults aged >=18 Years',\n",
       "       'High blood pressure among adults aged >=18 Years',\n",
       "       'High blood pressure among adults aged >=18 Years', ...,\n",
       "       'Coronary heart disease among adults aged >=18 Years',\n",
       "       'Mental health not good for >=14 days among adults aged >=18 Years',\n",
       "       'All teeth lost among adults aged >=65 Years'], dtype=object)"
      ]
     },
     "execution_count": 7,
     "metadata": {},
     "output_type": "execute_result"
    }
   ],
   "source": [
    "data['Measure'].values"
   ]
  },
  {
   "cell_type": "code",
   "execution_count": 8,
   "metadata": {},
   "outputs": [
    {
     "data": {
      "text/plain": [
       "2016    694079\n",
       "2015    116024\n",
       "Name: Year, dtype: int64"
      ]
     },
     "execution_count": 8,
     "metadata": {},
     "output_type": "execute_result"
    }
   ],
   "source": [
    "data.Year.value_counts()"
   ]
  },
  {
   "cell_type": "code",
   "execution_count": 9,
   "metadata": {},
   "outputs": [
    {
     "data": {
      "text/plain": [
       "High Blood Pressure                         29006\n",
       "Physical Inactivity                         29006\n",
       "Obesity                                     29006\n",
       "Coronary Heart Disease                      29006\n",
       "Cancer (except skin)                        29006\n",
       "Cholesterol Screening                       29006\n",
       "Current Smoking                             29006\n",
       "Dental Visit                                29006\n",
       "Mental Health                               29006\n",
       "Sleep <7 hours                              29006\n",
       "Taking BP Medication                        29006\n",
       "Arthritis                                   29006\n",
       "High Cholesterol                            29006\n",
       "Annual Checkup                              29006\n",
       "Current Asthma                              29006\n",
       "Binge Drinking                              29006\n",
       "Diabetes                                    29006\n",
       "Physical Health                             29006\n",
       "COPD                                        29006\n",
       "Chronic Kidney Disease                      29006\n",
       "Stroke                                      29006\n",
       "Health Insurance                            28973\n",
       "Pap Smear Test                              28912\n",
       "Colorectal Cancer Screening                 28847\n",
       "Mammography                                 28727\n",
       "Teeth Loss                                  28601\n",
       "Core preventive services for older men      28464\n",
       "Core preventive services for older women    28453\n",
       "Name: Short_Question_Text, dtype: int64"
      ]
     },
     "execution_count": 9,
     "metadata": {},
     "output_type": "execute_result"
    }
   ],
   "source": [
    "data.Short_Question_Text.value_counts()"
   ]
  },
  {
   "cell_type": "code",
   "execution_count": 10,
   "metadata": {},
   "outputs": [
    {
     "data": {
      "text/html": [
       "<div>\n",
       "<style scoped>\n",
       "    .dataframe tbody tr th:only-of-type {\n",
       "        vertical-align: middle;\n",
       "    }\n",
       "\n",
       "    .dataframe tbody tr th {\n",
       "        vertical-align: top;\n",
       "    }\n",
       "\n",
       "    .dataframe thead th {\n",
       "        text-align: right;\n",
       "    }\n",
       "</style>\n",
       "<table border=\"1\" class=\"dataframe\">\n",
       "  <thead>\n",
       "    <tr style=\"text-align: right;\">\n",
       "      <th></th>\n",
       "      <th>Short_Question_Text</th>\n",
       "      <th>PopulationCount</th>\n",
       "    </tr>\n",
       "  </thead>\n",
       "  <tbody>\n",
       "    <tr>\n",
       "      <th>0</th>\n",
       "      <td>High Blood Pressure</td>\n",
       "      <td>76794</td>\n",
       "    </tr>\n",
       "    <tr>\n",
       "      <th>1</th>\n",
       "      <td>High Blood Pressure</td>\n",
       "      <td>66790</td>\n",
       "    </tr>\n",
       "    <tr>\n",
       "      <th>2</th>\n",
       "      <td>High Blood Pressure</td>\n",
       "      <td>122643</td>\n",
       "    </tr>\n",
       "    <tr>\n",
       "      <th>3</th>\n",
       "      <td>High Blood Pressure</td>\n",
       "      <td>153015</td>\n",
       "    </tr>\n",
       "    <tr>\n",
       "      <th>4</th>\n",
       "      <td>Cholesterol Screening</td>\n",
       "      <td>103190</td>\n",
       "    </tr>\n",
       "    <tr>\n",
       "      <th>...</th>\n",
       "      <td>...</td>\n",
       "      <td>...</td>\n",
       "    </tr>\n",
       "    <tr>\n",
       "      <th>810098</th>\n",
       "      <td>Binge Drinking</td>\n",
       "      <td>3346</td>\n",
       "    </tr>\n",
       "    <tr>\n",
       "      <th>810099</th>\n",
       "      <td>Current Smoking</td>\n",
       "      <td>6253</td>\n",
       "    </tr>\n",
       "    <tr>\n",
       "      <th>810100</th>\n",
       "      <td>Coronary Heart Disease</td>\n",
       "      <td>5155</td>\n",
       "    </tr>\n",
       "    <tr>\n",
       "      <th>810101</th>\n",
       "      <td>Mental Health</td>\n",
       "      <td>3095</td>\n",
       "    </tr>\n",
       "    <tr>\n",
       "      <th>810102</th>\n",
       "      <td>Teeth Loss</td>\n",
       "      <td>1733</td>\n",
       "    </tr>\n",
       "  </tbody>\n",
       "</table>\n",
       "<p>810103 rows × 2 columns</p>\n",
       "</div>"
      ],
      "text/plain": [
       "           Short_Question_Text  PopulationCount\n",
       "0          High Blood Pressure            76794\n",
       "1          High Blood Pressure            66790\n",
       "2          High Blood Pressure           122643\n",
       "3          High Blood Pressure           153015\n",
       "4        Cholesterol Screening           103190\n",
       "...                        ...              ...\n",
       "810098          Binge Drinking             3346\n",
       "810099         Current Smoking             6253\n",
       "810100  Coronary Heart Disease             5155\n",
       "810101           Mental Health             3095\n",
       "810102              Teeth Loss             1733\n",
       "\n",
       "[810103 rows x 2 columns]"
      ]
     },
     "execution_count": 10,
     "metadata": {},
     "output_type": "execute_result"
    }
   ],
   "source": [
    "data[['Short_Question_Text','PopulationCount']]"
   ]
  },
  {
   "cell_type": "code",
   "execution_count": 11,
   "metadata": {},
   "outputs": [
    {
     "ename": "NameError",
     "evalue": "name 'Colorado' is not defined",
     "output_type": "error",
     "traceback": [
      "\u001b[0;31m---------------------------------------------------------------------------\u001b[0m",
      "\u001b[0;31mNameError\u001b[0m                                 Traceback (most recent call last)",
      "\u001b[0;32m<ipython-input-11-bb7944679d9d>\u001b[0m in \u001b[0;36m<module>\u001b[0;34m\u001b[0m\n\u001b[0;32m----> 1\u001b[0;31m \u001b[0mColorado\u001b[0m\u001b[0;34m.\u001b[0m\u001b[0mgroupby\u001b[0m\u001b[0;34m(\u001b[0m\u001b[0;34m[\u001b[0m\u001b[0;34m'Measure'\u001b[0m\u001b[0;34m]\u001b[0m\u001b[0;34m)\u001b[0m\u001b[0;34m\u001b[0m\u001b[0;34m\u001b[0m\u001b[0m\n\u001b[0m",
      "\u001b[0;31mNameError\u001b[0m: name 'Colorado' is not defined"
     ]
    }
   ],
   "source": [
    "Colorado.groupby(['Measure'])"
   ]
  },
  {
   "cell_type": "code",
   "execution_count": 15,
   "metadata": {},
   "outputs": [
    {
     "data": {
      "text/plain": [
       "<pandas.core.groupby.generic.DataFrameGroupBy object at 0x7fc7bc49e750>"
      ]
     },
     "execution_count": 15,
     "metadata": {},
     "output_type": "execute_result"
    }
   ],
   "source": [
    "Colorado = data[data.StateAbbr=='CO']\n",
    "Colorado = Colorado.set_index(['Year', 'Measure'])\n",
    "Colorado = Colorado.groupby('Measure')[['Data_Value' ,'PopulationCount']]\n",
    "Colorado\n",
    "# for name, group in Colorado:\n",
    "#     print(name)\n",
    "#     print(group)\n"
   ]
  },
  {
   "cell_type": "code",
   "execution_count": 16,
   "metadata": {},
   "outputs": [
    {
     "ename": "AttributeError",
     "evalue": "'DataFrameGroupBy' object has no attribute 'groupby'",
     "output_type": "error",
     "traceback": [
      "\u001b[0;31m---------------------------------------------------------------------------\u001b[0m",
      "\u001b[0;31mAttributeError\u001b[0m                            Traceback (most recent call last)",
      "\u001b[0;32m<ipython-input-16-e89a2246f1c2>\u001b[0m in \u001b[0;36m<module>\u001b[0;34m\u001b[0m\n\u001b[0;32m----> 1\u001b[0;31m \u001b[0mColorado_Measure\u001b[0m \u001b[0;34m=\u001b[0m \u001b[0mColorado\u001b[0m\u001b[0;34m.\u001b[0m\u001b[0mgroupby\u001b[0m\u001b[0;34m(\u001b[0m\u001b[0;34m'Measure'\u001b[0m\u001b[0;34m)\u001b[0m\u001b[0;34m\u001b[0m\u001b[0;34m\u001b[0m\u001b[0m\n\u001b[0m\u001b[1;32m      2\u001b[0m \u001b[0mColorado_Measure\u001b[0m\u001b[0;34m[\u001b[0m\u001b[0;34m'Year'\u001b[0m\u001b[0;34m,\u001b[0m \u001b[0;34m'Measure'\u001b[0m\u001b[0;34m,\u001b[0m \u001b[0;34m'Data_Value'\u001b[0m\u001b[0;34m,\u001b[0m \u001b[0;34m'PopulationCount'\u001b[0m\u001b[0;34m]\u001b[0m\u001b[0;34m\u001b[0m\u001b[0;34m\u001b[0m\u001b[0m\n",
      "\u001b[0;32m~/opt/anaconda3/lib/python3.7/site-packages/pandas/core/groupby/groupby.py\u001b[0m in \u001b[0;36m__getattr__\u001b[0;34m(self, attr)\u001b[0m\n\u001b[1;32m    751\u001b[0m \u001b[0;34m\u001b[0m\u001b[0m\n\u001b[1;32m    752\u001b[0m         raise AttributeError(\n\u001b[0;32m--> 753\u001b[0;31m             \u001b[0;34mf\"'{type(self).__name__}' object has no attribute '{attr}'\"\u001b[0m\u001b[0;34m\u001b[0m\u001b[0;34m\u001b[0m\u001b[0m\n\u001b[0m\u001b[1;32m    754\u001b[0m         )\n\u001b[1;32m    755\u001b[0m \u001b[0;34m\u001b[0m\u001b[0m\n",
      "\u001b[0;31mAttributeError\u001b[0m: 'DataFrameGroupBy' object has no attribute 'groupby'"
     ]
    }
   ],
   "source": [
    "Colorado_Measure = Colorado.groupby('Measure')\n",
    "Colorado_Measure['Year', 'Measure', 'Data_Value', 'PopulationCount']"
   ]
  },
  {
   "cell_type": "code",
   "execution_count": 14,
   "metadata": {},
   "outputs": [
    {
     "ename": "NameError",
     "evalue": "name 'Colorado' is not defined",
     "output_type": "error",
     "traceback": [
      "\u001b[0;31m---------------------------------------------------------------------------\u001b[0m",
      "\u001b[0;31mNameError\u001b[0m                                 Traceback (most recent call last)",
      "\u001b[0;32m<ipython-input-14-9a236a50f729>\u001b[0m in \u001b[0;36m<module>\u001b[0;34m\u001b[0m\n\u001b[0;32m----> 1\u001b[0;31m \u001b[0mColorado_grouped\u001b[0m \u001b[0;34m=\u001b[0m \u001b[0mColorado\u001b[0m\u001b[0;34m.\u001b[0m\u001b[0mgroupby\u001b[0m\u001b[0;34m(\u001b[0m\u001b[0;34m'Measure'\u001b[0m\u001b[0;34m)\u001b[0m\u001b[0;34m\u001b[0m\u001b[0;34m\u001b[0m\u001b[0m\n\u001b[0m\u001b[1;32m      2\u001b[0m \u001b[0;32mfor\u001b[0m \u001b[0mname\u001b[0m\u001b[0;34m,\u001b[0m \u001b[0mgroup\u001b[0m \u001b[0;32min\u001b[0m \u001b[0mColorado_grouped\u001b[0m\u001b[0;34m.\u001b[0m\u001b[0mhead\u001b[0m\u001b[0;34m(\u001b[0m\u001b[0;36m5\u001b[0m\u001b[0;34m)\u001b[0m\u001b[0;34m:\u001b[0m\u001b[0;34m\u001b[0m\u001b[0;34m\u001b[0m\u001b[0m\n\u001b[1;32m      3\u001b[0m     \u001b[0mprint\u001b[0m\u001b[0;34m(\u001b[0m\u001b[0mname\u001b[0m\u001b[0;34m)\u001b[0m\u001b[0;34m\u001b[0m\u001b[0;34m\u001b[0m\u001b[0m\n\u001b[1;32m      4\u001b[0m     \u001b[0mprint\u001b[0m\u001b[0;34m(\u001b[0m\u001b[0mgroup\u001b[0m\u001b[0;34m)\u001b[0m\u001b[0;34m\u001b[0m\u001b[0;34m\u001b[0m\u001b[0m\n",
      "\u001b[0;31mNameError\u001b[0m: name 'Colorado' is not defined"
     ]
    }
   ],
   "source": [
    "Colorado_grouped = Colorado.groupby('Measure')\n",
    "for name, group in Colorado_grouped.head(5):\n",
    "    print(name)\n",
    "    print(group)"
   ]
  },
  {
   "cell_type": "code",
   "execution_count": 49,
   "metadata": {},
   "outputs": [
    {
     "data": {
      "text/plain": [
       "Index(['Year', 'StateAbbr', 'StateDesc', 'CityName', 'GeographicLevel',\n",
       "       'DataSource', 'Category', 'UniqueID', 'Measure', 'Data_Value_Unit',\n",
       "       'DataValueTypeID', 'Data_Value_Type', 'Data_Value',\n",
       "       'Low_Confidence_Limit', 'High_Confidence_Limit',\n",
       "       'Data_Value_Footnote_Symbol', 'Data_Value_Footnote', 'PopulationCount',\n",
       "       'Geolocation', 'CategoryID', 'MeasureId', 'CityFIPS', 'TractFIPS',\n",
       "       'Short_Question_Text'],\n",
       "      dtype='object')"
      ]
     },
     "execution_count": 49,
     "metadata": {},
     "output_type": "execute_result"
    }
   ],
   "source": [
    "data.columns"
   ]
  },
  {
   "cell_type": "code",
   "execution_count": 12,
   "metadata": {},
   "outputs": [
    {
     "ename": "NameError",
     "evalue": "name 'Colorado_grouped' is not defined",
     "output_type": "error",
     "traceback": [
      "\u001b[0;31m---------------------------------------------------------------------------\u001b[0m",
      "\u001b[0;31mNameError\u001b[0m                                 Traceback (most recent call last)",
      "\u001b[0;32m<ipython-input-12-ee60fa990da5>\u001b[0m in \u001b[0;36m<module>\u001b[0;34m\u001b[0m\n\u001b[0;32m----> 1\u001b[0;31m \u001b[0mColorado_state\u001b[0m \u001b[0;34m=\u001b[0m \u001b[0mColorado_grouped\u001b[0m\u001b[0;34m.\u001b[0m\u001b[0mset_index\u001b[0m\u001b[0;34m(\u001b[0m\u001b[0;34m[\u001b[0m\u001b[0;34m'Year'\u001b[0m\u001b[0;34m,\u001b[0m\u001b[0;34m'Measure'\u001b[0m\u001b[0;34m]\u001b[0m\u001b[0;34m)\u001b[0m\u001b[0;34m\u001b[0m\u001b[0;34m\u001b[0m\u001b[0m\n\u001b[0m\u001b[1;32m      2\u001b[0m \u001b[0mColorado_state\u001b[0m\u001b[0;34m.\u001b[0m\u001b[0mhead\u001b[0m\u001b[0;34m(\u001b[0m\u001b[0;34m)\u001b[0m\u001b[0;34m\u001b[0m\u001b[0;34m\u001b[0m\u001b[0m\n",
      "\u001b[0;31mNameError\u001b[0m: name 'Colorado_grouped' is not defined"
     ]
    }
   ],
   "source": [
    "Colorado_state = Colorado_grouped.set_index(['Year','Measure'])\n",
    "Colorado_state.head()"
   ]
  },
  {
   "cell_type": "code",
   "execution_count": 13,
   "metadata": {},
   "outputs": [
    {
     "ename": "NameError",
     "evalue": "name 'Colorado_grouped' is not defined",
     "output_type": "error",
     "traceback": [
      "\u001b[0;31m---------------------------------------------------------------------------\u001b[0m",
      "\u001b[0;31mNameError\u001b[0m                                 Traceback (most recent call last)",
      "\u001b[0;32m<ipython-input-13-858fb724c746>\u001b[0m in \u001b[0;36m<module>\u001b[0;34m\u001b[0m\n\u001b[0;32m----> 1\u001b[0;31m \u001b[0mColorado_grouped\u001b[0m\u001b[0;34m[\u001b[0m\u001b[0;34m'Measure'\u001b[0m\u001b[0;34m,\u001b[0m\u001b[0;34m'High_Confidence_Limit'\u001b[0m\u001b[0;34m,\u001b[0m \u001b[0;34m'Low_Confidence_Limit'\u001b[0m\u001b[0;34m,\u001b[0m\u001b[0;34m'PopulationCount'\u001b[0m\u001b[0;34m]\u001b[0m\u001b[0;34m.\u001b[0m\u001b[0mhead\u001b[0m\u001b[0;34m(\u001b[0m\u001b[0;34m)\u001b[0m\u001b[0;34m\u001b[0m\u001b[0;34m\u001b[0m\u001b[0m\n\u001b[0m",
      "\u001b[0;31mNameError\u001b[0m: name 'Colorado_grouped' is not defined"
     ]
    }
   ],
   "source": [
    "Colorado_grouped['Measure','High_Confidence_Limit', 'Low_Confidence_Limit','PopulationCount'].head()\n"
   ]
  },
  {
   "cell_type": "code",
   "execution_count": 50,
   "metadata": {},
   "outputs": [
    {
     "name": "stdout",
     "output_type": "stream",
     "text": [
      "CO\n",
      "        Year StateAbbr StateDesc          CityName GeographicLevel DataSource  \\\n",
      "20      2015        CO  Colorado  Colorado Springs            City      BRFSS   \n",
      "89      2015        CO  Colorado       Westminster    Census Tract      BRFSS   \n",
      "115     2015        CO  Colorado            Denver    Census Tract      BRFSS   \n",
      "128     2016        CO  Colorado           Boulder    Census Tract      BRFSS   \n",
      "141     2016        CO  Colorado            Aurora    Census Tract      BRFSS   \n",
      "...      ...       ...       ...               ...             ...        ...   \n",
      "809885  2016        CO  Colorado  Colorado Springs    Census Tract      BRFSS   \n",
      "809962  2016        CO  Colorado       Westminster    Census Tract      BRFSS   \n",
      "810007  2016        CO  Colorado  Colorado Springs    Census Tract      BRFSS   \n",
      "810028  2016        CO  Colorado      Fort Collins    Census Tract      BRFSS   \n",
      "810050  2016        CO  Colorado           Greeley    Census Tract      BRFSS   \n",
      "\n",
      "                   Category             UniqueID  \\\n",
      "20          Health Outcomes              0816000   \n",
      "89          Health Outcomes  0883835-08059010209   \n",
      "115              Prevention  0820000-08031000303   \n",
      "128         Health Outcomes  0807850-08013012103   \n",
      "141     Unhealthy Behaviors  0804000-08005084500   \n",
      "...                     ...                  ...   \n",
      "809885      Health Outcomes  0816000-08041005900   \n",
      "809962      Health Outcomes  0883835-08059060500   \n",
      "810007           Prevention  0816000-08041004703   \n",
      "810028      Health Outcomes  0827425-08069001708   \n",
      "810050  Unhealthy Behaviors  0832155-08123000502   \n",
      "\n",
      "                                                  Measure Data_Value_Unit  \\\n",
      "20       High blood pressure among adults aged >=18 Years               %   \n",
      "89       High blood pressure among adults aged >=18 Years               %   \n",
      "115     Cholesterol screening among adults aged >=18 Y...               %   \n",
      "128                Arthritis among adults aged >=18 Years               %   \n",
      "141                  Obesity among adults aged >=18 Years               %   \n",
      "...                                                   ...             ...   \n",
      "809885    Diagnosed diabetes among adults aged >=18 Years               %   \n",
      "809962  Chronic kidney disease among adults aged >=18 ...               %   \n",
      "810007  Older adult men aged >=65 Years who are up to ...               %   \n",
      "810028        All teeth lost among adults aged >=65 Years               %   \n",
      "810050       Current smoking among adults aged >=18 Years               %   \n",
      "\n",
      "        ... High_Confidence_Limit Data_Value_Footnote_Symbol  \\\n",
      "20      ...                  24.7                        NaN   \n",
      "89      ...                  23.0                        NaN   \n",
      "115     ...                  79.5                        NaN   \n",
      "128     ...                  21.4                        NaN   \n",
      "141     ...                  23.0                        NaN   \n",
      "...     ...                   ...                        ...   \n",
      "809885  ...                   8.3                        NaN   \n",
      "809962  ...                   1.6                        NaN   \n",
      "810007  ...                  43.7                        NaN   \n",
      "810028  ...                  11.7                        NaN   \n",
      "810050  ...                  28.1                        NaN   \n",
      "\n",
      "        Data_Value_Footnote  PopulationCount  \\\n",
      "20                      NaN           416427   \n",
      "89                      NaN             3107   \n",
      "115                     NaN             4504   \n",
      "128                     NaN             3623   \n",
      "141                     NaN             2708   \n",
      "...                     ...              ...   \n",
      "809885                  NaN             6573   \n",
      "809962                  NaN             1551   \n",
      "810007                  NaN             6182   \n",
      "810028                  NaN             3102   \n",
      "810050                  NaN             3313   \n",
      "\n",
      "                                 Geolocation CategoryID   MeasureId  CityFIPS  \\\n",
      "20      POINT (-104.760664479 38.8672748077)    HLTHOUT      BPHIGH  816000.0   \n",
      "89       POINT (-105.059948429 39.831983378)    HLTHOUT      BPHIGH  883835.0   \n",
      "115     POINT (-105.032302333 39.7639664662)    PREVENT  CHOLSCREEN  820000.0   \n",
      "128     POINT (-105.265746293 40.0443960756)    HLTHOUT   ARTHRITIS  807850.0   \n",
      "141       POINT (-104.78512956 39.656094424)     UNHBEH     OBESITY  804000.0   \n",
      "...                                      ...        ...         ...       ...   \n",
      "809885   POINT (-104.735140704 38.858260743)    HLTHOUT    DIABETES  816000.0   \n",
      "809962  POINT (-105.128912946 39.8878946543)    HLTHOUT      KIDNEY  883835.0   \n",
      "810007  POINT (-104.763445357 38.9205830298)    PREVENT       COREM  816000.0   \n",
      "810028  POINT (-105.061060017 40.4876141778)    HLTHOUT   TEETHLOST  827425.0   \n",
      "810050   POINT (-104.704670756 40.426667487)     UNHBEH    CSMOKING  832155.0   \n",
      "\n",
      "           TractFIPS                     Short_Question_Text  \n",
      "20               NaN                     High Blood Pressure  \n",
      "89      8.059010e+09                     High Blood Pressure  \n",
      "115     8.031000e+09                   Cholesterol Screening  \n",
      "128     8.013012e+09                               Arthritis  \n",
      "141     8.005084e+09                                 Obesity  \n",
      "...              ...                                     ...  \n",
      "809885  8.041006e+09                                Diabetes  \n",
      "809962  8.059060e+09                  Chronic Kidney Disease  \n",
      "810007  8.041005e+09  Core preventive services for older men  \n",
      "810028  8.069002e+09                              Teeth Loss  \n",
      "810050  8.123001e+09                         Current Smoking  \n",
      "\n",
      "[20549 rows x 24 columns]\n"
     ]
    },
    {
     "name": "stderr",
     "output_type": "stream",
     "text": [
      "/Users/willsullivan/opt/anaconda3/lib/python3.7/site-packages/ipykernel_launcher.py:1: FutureWarning: Indexing with multiple keys (implicitly converted to a tuple of keys) will be deprecated, use a list instead.\n",
      "  \"\"\"Entry point for launching an IPython kernel.\n"
     ]
    }
   ],
   "source": [
    "\n",
    "for name, group in Colorado_grouped['Measure','High_Confidence_Limit', 'Low_Confidence_Limit','PopulationCount']:\n",
    "    print(name)\n",
    "    print(group)"
   ]
  },
  {
   "cell_type": "code",
   "execution_count": null,
   "metadata": {},
   "outputs": [],
   "source": []
  },
  {
   "cell_type": "code",
   "execution_count": 69,
   "metadata": {},
   "outputs": [
    {
     "data": {
      "text/html": [
       "<div>\n",
       "<style scoped>\n",
       "    .dataframe tbody tr th:only-of-type {\n",
       "        vertical-align: middle;\n",
       "    }\n",
       "\n",
       "    .dataframe tbody tr th {\n",
       "        vertical-align: top;\n",
       "    }\n",
       "\n",
       "    .dataframe thead th {\n",
       "        text-align: right;\n",
       "    }\n",
       "</style>\n",
       "<table border=\"1\" class=\"dataframe\">\n",
       "  <thead>\n",
       "    <tr style=\"text-align: right;\">\n",
       "      <th></th>\n",
       "      <th></th>\n",
       "      <th>Low_Confidence_Limit</th>\n",
       "      <th>High_Confidence_Limit</th>\n",
       "      <th>PopulationCount</th>\n",
       "    </tr>\n",
       "    <tr>\n",
       "      <th>StateAbbr</th>\n",
       "      <th>Measure</th>\n",
       "      <th></th>\n",
       "      <th></th>\n",
       "      <th></th>\n",
       "    </tr>\n",
       "  </thead>\n",
       "  <tbody>\n",
       "    <tr>\n",
       "      <th rowspan=\"5\" valign=\"top\">AK</th>\n",
       "      <th>All teeth lost among adults aged &gt;=65 Years</th>\n",
       "      <td>551.6</td>\n",
       "      <td>998.2</td>\n",
       "      <td>875478</td>\n",
       "    </tr>\n",
       "    <tr>\n",
       "      <th>Arthritis among adults aged &gt;=18 Years</th>\n",
       "      <td>1089.4</td>\n",
       "      <td>1198.0</td>\n",
       "      <td>875478</td>\n",
       "    </tr>\n",
       "    <tr>\n",
       "      <th>Binge drinking among adults aged &gt;=18 Years</th>\n",
       "      <td>1063.7</td>\n",
       "      <td>1136.0</td>\n",
       "      <td>875478</td>\n",
       "    </tr>\n",
       "    <tr>\n",
       "      <th>Cancer (excluding skin cancer) among adults aged &gt;=18 Years</th>\n",
       "      <td>284.5</td>\n",
       "      <td>307.0</td>\n",
       "      <td>875478</td>\n",
       "    </tr>\n",
       "    <tr>\n",
       "      <th>Cholesterol screening among adults aged &gt;=18 Years</th>\n",
       "      <td>3815.3</td>\n",
       "      <td>4023.2</td>\n",
       "      <td>875478</td>\n",
       "    </tr>\n",
       "    <tr>\n",
       "      <th>...</th>\n",
       "      <th>...</th>\n",
       "      <td>...</td>\n",
       "      <td>...</td>\n",
       "      <td>...</td>\n",
       "    </tr>\n",
       "    <tr>\n",
       "      <th rowspan=\"5\" valign=\"top\">WY</th>\n",
       "      <th>Sleeping less than 7 hours among adults aged &gt;=18 Years</th>\n",
       "      <td>574.4</td>\n",
       "      <td>621.5</td>\n",
       "      <td>178398</td>\n",
       "    </tr>\n",
       "    <tr>\n",
       "      <th>Stroke among adults aged &gt;=18 Years</th>\n",
       "      <td>43.1</td>\n",
       "      <td>54.4</td>\n",
       "      <td>178398</td>\n",
       "    </tr>\n",
       "    <tr>\n",
       "      <th>Taking medicine for high blood pressure control among adults aged &gt;=18 Years with high blood pressure</th>\n",
       "      <td>1278.2</td>\n",
       "      <td>1316.4</td>\n",
       "      <td>178398</td>\n",
       "    </tr>\n",
       "    <tr>\n",
       "      <th>Visits to dentist or dental clinic among adults aged &gt;=18 Years</th>\n",
       "      <td>1176.9</td>\n",
       "      <td>1289.8</td>\n",
       "      <td>178398</td>\n",
       "    </tr>\n",
       "    <tr>\n",
       "      <th>Visits to doctor for routine checkup within the past Year among adults aged &gt;=18 Years</th>\n",
       "      <td>1129.5</td>\n",
       "      <td>1161.8</td>\n",
       "      <td>178398</td>\n",
       "    </tr>\n",
       "  </tbody>\n",
       "</table>\n",
       "<p>1456 rows × 3 columns</p>\n",
       "</div>"
      ],
      "text/plain": [
       "                                                              Low_Confidence_Limit  \\\n",
       "StateAbbr Measure                                                                    \n",
       "AK        All teeth lost among adults aged >=65 Years                        551.6   \n",
       "          Arthritis among adults aged >=18 Years                            1089.4   \n",
       "          Binge drinking among adults aged >=18 Years                       1063.7   \n",
       "          Cancer (excluding skin cancer) among adults age...                 284.5   \n",
       "          Cholesterol screening among adults aged >=18 Years                3815.3   \n",
       "...                                                                            ...   \n",
       "WY        Sleeping less than 7 hours among adults aged >=...                 574.4   \n",
       "          Stroke among adults aged >=18 Years                                 43.1   \n",
       "          Taking medicine for high blood pressure control...                1278.2   \n",
       "          Visits to dentist or dental clinic among adults...                1176.9   \n",
       "          Visits to doctor for routine checkup within the...                1129.5   \n",
       "\n",
       "                                                              High_Confidence_Limit  \\\n",
       "StateAbbr Measure                                                                     \n",
       "AK        All teeth lost among adults aged >=65 Years                         998.2   \n",
       "          Arthritis among adults aged >=18 Years                             1198.0   \n",
       "          Binge drinking among adults aged >=18 Years                        1136.0   \n",
       "          Cancer (excluding skin cancer) among adults age...                  307.0   \n",
       "          Cholesterol screening among adults aged >=18 Years                 4023.2   \n",
       "...                                                                             ...   \n",
       "WY        Sleeping less than 7 hours among adults aged >=...                  621.5   \n",
       "          Stroke among adults aged >=18 Years                                  54.4   \n",
       "          Taking medicine for high blood pressure control...                 1316.4   \n",
       "          Visits to dentist or dental clinic among adults...                 1289.8   \n",
       "          Visits to doctor for routine checkup within the...                 1161.8   \n",
       "\n",
       "                                                              PopulationCount  \n",
       "StateAbbr Measure                                                              \n",
       "AK        All teeth lost among adults aged >=65 Years                  875478  \n",
       "          Arthritis among adults aged >=18 Years                       875478  \n",
       "          Binge drinking among adults aged >=18 Years                  875478  \n",
       "          Cancer (excluding skin cancer) among adults age...           875478  \n",
       "          Cholesterol screening among adults aged >=18 Years           875478  \n",
       "...                                                                       ...  \n",
       "WY        Sleeping less than 7 hours among adults aged >=...           178398  \n",
       "          Stroke among adults aged >=18 Years                          178398  \n",
       "          Taking medicine for high blood pressure control...           178398  \n",
       "          Visits to dentist or dental clinic among adults...           178398  \n",
       "          Visits to doctor for routine checkup within the...           178398  \n",
       "\n",
       "[1456 rows x 3 columns]"
      ]
     },
     "execution_count": 69,
     "metadata": {},
     "output_type": "execute_result"
    }
   ],
   "source": [
    "data[['StateAbbr', 'CityName','Measure','Low_Confidence_Limit', 'High_Confidence_Limit', 'PopulationCount']].groupby(['StateAbbr','Measure']).sum()\n"
   ]
  },
  {
   "cell_type": "code",
   "execution_count": null,
   "metadata": {},
   "outputs": [],
   "source": []
  }
 ],
 "metadata": {
  "kernelspec": {
   "display_name": "Python 3",
   "language": "python",
   "name": "python3"
  },
  "language_info": {
   "codemirror_mode": {
    "name": "ipython",
    "version": 3
   },
   "file_extension": ".py",
   "mimetype": "text/x-python",
   "name": "python",
   "nbconvert_exporter": "python",
   "pygments_lexer": "ipython3",
   "version": "3.7.9"
  }
 },
 "nbformat": 4,
 "nbformat_minor": 4
}
